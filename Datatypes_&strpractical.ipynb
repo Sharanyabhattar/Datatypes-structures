{
  "nbformat": 4,
  "nbformat_minor": 0,
  "metadata": {
    "colab": {
      "provenance": []
    },
    "kernelspec": {
      "name": "python3",
      "display_name": "Python 3"
    },
    "language_info": {
      "name": "python"
    }
  },
  "cells": [
    {
      "cell_type": "code",
      "execution_count": null,
      "metadata": {
        "colab": {
          "base_uri": "https://localhost:8080/"
        },
        "id": "R5kH-EUMOnKR",
        "outputId": "16e78b32-97ab-4cb4-8c04-45052c37ee72"
      },
      "outputs": [
        {
          "output_type": "stream",
          "name": "stdout",
          "text": [
            "Sharanya\n"
          ]
        }
      ],
      "source": [
        "# 1. Write a code to create a string with your name and print it\n",
        "name = \"Sharanya\"\n",
        "print(name)\n"
      ]
    },
    {
      "cell_type": "code",
      "source": [
        "#Write a code to find the length of the string \"Hello World\"\n",
        "string = \"Hello World\"\n",
        "len(string)"
      ],
      "metadata": {
        "colab": {
          "base_uri": "https://localhost:8080/"
        },
        "id": "9PkVRNZpP_zA",
        "outputId": "ff197d70-5794-412c-9eea-7b65cbf5b739"
      },
      "execution_count": null,
      "outputs": [
        {
          "output_type": "execute_result",
          "data": {
            "text/plain": [
              "11"
            ]
          },
          "metadata": {},
          "execution_count": 4
        }
      ]
    },
    {
      "cell_type": "code",
      "source": [
        "#Write a code to slice the first 3 characters from the string \"Python Programming\n",
        "string = \"Python Programming\"\n",
        "string[0:3]"
      ],
      "metadata": {
        "colab": {
          "base_uri": "https://localhost:8080/",
          "height": 36
        },
        "id": "VHdezKGtQXaH",
        "outputId": "ed3f49ff-8bbe-4fa3-ef1c-d4041e9d907f"
      },
      "execution_count": null,
      "outputs": [
        {
          "output_type": "execute_result",
          "data": {
            "text/plain": [
              "'Pyt'"
            ],
            "application/vnd.google.colaboratory.intrinsic+json": {
              "type": "string"
            }
          },
          "metadata": {},
          "execution_count": 5
        }
      ]
    },
    {
      "cell_type": "code",
      "source": [
        "#Write a code to convert the string \"hello\" to uppercase\n",
        "string = \"hello\"\n",
        "string.upper()"
      ],
      "metadata": {
        "colab": {
          "base_uri": "https://localhost:8080/",
          "height": 36
        },
        "id": "9py4xZ0WR6zT",
        "outputId": "fed58f1a-5d5b-4fdf-ee33-33e7116a3a2b"
      },
      "execution_count": null,
      "outputs": [
        {
          "output_type": "execute_result",
          "data": {
            "text/plain": [
              "'HELLO'"
            ],
            "application/vnd.google.colaboratory.intrinsic+json": {
              "type": "string"
            }
          },
          "metadata": {},
          "execution_count": 6
        }
      ]
    },
    {
      "cell_type": "code",
      "source": [
        "#Write a code to replace the word \"apple\" with \"orange\" in the string \"I like apple\"\n",
        "string = \"I like apple\"\n",
        "string.replace(\"apple\",\"orange\")"
      ],
      "metadata": {
        "colab": {
          "base_uri": "https://localhost:8080/",
          "height": 36
        },
        "id": "j7RjL3lrTOv5",
        "outputId": "289b9136-a8b6-4d47-8c61-7ba0da0d047c"
      },
      "execution_count": null,
      "outputs": [
        {
          "output_type": "execute_result",
          "data": {
            "text/plain": [
              "'I like orange'"
            ],
            "application/vnd.google.colaboratory.intrinsic+json": {
              "type": "string"
            }
          },
          "metadata": {},
          "execution_count": 7
        }
      ]
    },
    {
      "cell_type": "code",
      "source": [
        "#Write a code to create a list with numbers 1 to 5 and print it\n",
        "list = [1, 2, 3, 4, 5]\n",
        "print(list)"
      ],
      "metadata": {
        "colab": {
          "base_uri": "https://localhost:8080/"
        },
        "id": "ustBXTP9T-dR",
        "outputId": "3f618e72-f2ad-4315-cb71-045583879131"
      },
      "execution_count": null,
      "outputs": [
        {
          "output_type": "stream",
          "name": "stdout",
          "text": [
            "[1, 2, 3, 4, 5]\n"
          ]
        }
      ]
    },
    {
      "cell_type": "code",
      "source": [
        "#Write a code to append the number 10 to the list [1, 2, 3, 4]\n",
        "list = [1, 2, 3, 4]\n",
        "list.append(10)\n",
        "print(list)"
      ],
      "metadata": {
        "colab": {
          "base_uri": "https://localhost:8080/"
        },
        "id": "oGfHx5WRUNPv",
        "outputId": "308c4768-557a-45de-9f04-e3b18b479d69"
      },
      "execution_count": null,
      "outputs": [
        {
          "output_type": "stream",
          "name": "stdout",
          "text": [
            "[1, 2, 3, 4, 10]\n"
          ]
        }
      ]
    },
    {
      "cell_type": "code",
      "source": [
        "# 8.  Write a code to remove the number 3 from the list [1, 2, 3, 4, 5]\n",
        "list = [1, 2, 3, 4, 5]\n",
        "list.remove(3)\n",
        "print(list)"
      ],
      "metadata": {
        "colab": {
          "base_uri": "https://localhost:8080/"
        },
        "id": "_bvQcYUPUlsk",
        "outputId": "7d925384-9c4d-49a0-c980-417d57da94b6"
      },
      "execution_count": null,
      "outputs": [
        {
          "output_type": "stream",
          "name": "stdout",
          "text": [
            "[1, 2, 4, 5]\n"
          ]
        }
      ]
    },
    {
      "cell_type": "code",
      "source": [
        "# 9. Write a code to access the second element in the list ['a', 'b', 'c', 'd']\n",
        "list = ['a', 'b', 'c', 'd']\n",
        "list[1]\n",
        "\n"
      ],
      "metadata": {
        "colab": {
          "base_uri": "https://localhost:8080/",
          "height": 36
        },
        "id": "cr-jtKdrUz8H",
        "outputId": "74381ad9-45fb-46dc-ace3-1631be3fde32"
      },
      "execution_count": null,
      "outputs": [
        {
          "output_type": "execute_result",
          "data": {
            "text/plain": [
              "'b'"
            ],
            "application/vnd.google.colaboratory.intrinsic+json": {
              "type": "string"
            }
          },
          "metadata": {},
          "execution_count": 15
        }
      ]
    },
    {
      "cell_type": "code",
      "source": [
        "# 10. Write a code to reverse the list [10, 20, 30, 40, 50]\n",
        "list = [10, 20, 30, 40, 50]\n",
        "list.reverse()\n",
        "print(list)\n"
      ],
      "metadata": {
        "colab": {
          "base_uri": "https://localhost:8080/"
        },
        "id": "vySxh9aQX5ny",
        "outputId": "f80869e5-dbca-4d54-8ffc-1c39ef43ffab"
      },
      "execution_count": null,
      "outputs": [
        {
          "output_type": "stream",
          "name": "stdout",
          "text": [
            "[50, 40, 30, 20, 10]\n"
          ]
        }
      ]
    },
    {
      "cell_type": "code",
      "source": [
        "# 11.  Write a code to create a tuple with the elements 100, 200, 300 and print it.\n",
        "t = (100, 200, 300)\n",
        "print(t)"
      ],
      "metadata": {
        "colab": {
          "base_uri": "https://localhost:8080/"
        },
        "id": "lSsl5qBmaZoU",
        "outputId": "79207c6e-411c-44ee-f3f9-568383bd8e73"
      },
      "execution_count": null,
      "outputs": [
        {
          "output_type": "stream",
          "name": "stdout",
          "text": [
            "(100, 200, 300)\n"
          ]
        }
      ]
    },
    {
      "cell_type": "code",
      "source": [
        "# 12. Write a code to access the second-to-last element of the tuple ('red', 'green', 'blue', 'yellow').\n",
        "tuple1 = (\"red\", \"green\", \"blue\", \"yellow\")\n",
        "tuple1[1:]\n"
      ],
      "metadata": {
        "colab": {
          "base_uri": "https://localhost:8080/"
        },
        "id": "dkUjJK9quQsq",
        "outputId": "9ab70897-d47a-4b73-cd24-d763601b163b"
      },
      "execution_count": null,
      "outputs": [
        {
          "output_type": "execute_result",
          "data": {
            "text/plain": [
              "('green', 'blue', 'yellow')"
            ]
          },
          "metadata": {},
          "execution_count": 3
        }
      ]
    },
    {
      "cell_type": "code",
      "source": [
        "# 13.Write a code to find the minimum number in the tuple (10, 20, 5, 15)\n",
        "t1 = (10, 20, 5, 15)\n",
        "min(t1)"
      ],
      "metadata": {
        "colab": {
          "base_uri": "https://localhost:8080/"
        },
        "id": "RIVsK7WbvryY",
        "outputId": "2c9541e0-7d6d-465b-af1e-f7feefb1ddda"
      },
      "execution_count": null,
      "outputs": [
        {
          "output_type": "execute_result",
          "data": {
            "text/plain": [
              "5"
            ]
          },
          "metadata": {},
          "execution_count": 5
        }
      ]
    },
    {
      "cell_type": "code",
      "source": [
        "# 14. Write a code to find the index of the element \"cat\" in the tuple ('dog', 'cat', 'rabbit').\n",
        "tuple = (\"dog\", \"cat\", \"rabbit\")\n",
        "tuple.index(\"cat\")"
      ],
      "metadata": {
        "colab": {
          "base_uri": "https://localhost:8080/"
        },
        "id": "gg2eec8LwjEr",
        "outputId": "0d924da8-e454-4ce1-972b-b253aa262957"
      },
      "execution_count": null,
      "outputs": [
        {
          "output_type": "execute_result",
          "data": {
            "text/plain": [
              "1"
            ]
          },
          "metadata": {},
          "execution_count": 7
        }
      ]
    },
    {
      "cell_type": "code",
      "source": [
        "# 15. Write a code to create a tuple containing three different fruits and check if \"kiwi\" is in it.\n",
        "tuple2 = (\"Apple\", \"Orange\", \"Kiwi\", 1, 2.3, True, 3+5j)\n",
        "\"Kiwi\" in tuple2\n"
      ],
      "metadata": {
        "colab": {
          "base_uri": "https://localhost:8080/"
        },
        "id": "X8PCYv_ixAlL",
        "outputId": "c572f282-8a41-409b-d938-cca5e972f04d"
      },
      "execution_count": null,
      "outputs": [
        {
          "output_type": "execute_result",
          "data": {
            "text/plain": [
              "True"
            ]
          },
          "metadata": {},
          "execution_count": 8
        }
      ]
    },
    {
      "cell_type": "code",
      "source": [
        "# 16. Write a code to create a set with the elements 'a', 'b', 'c' and print it.\n",
        "set1 = {'a', 'b', 'c'}\n",
        "type(set1)"
      ],
      "metadata": {
        "colab": {
          "base_uri": "https://localhost:8080/"
        },
        "id": "FeXaaGgezVC4",
        "outputId": "83331639-35cb-46c3-ec61-4786de948d21"
      },
      "execution_count": null,
      "outputs": [
        {
          "output_type": "execute_result",
          "data": {
            "text/plain": [
              "set"
            ]
          },
          "metadata": {},
          "execution_count": 11
        }
      ]
    },
    {
      "cell_type": "code",
      "source": [
        "set1"
      ],
      "metadata": {
        "colab": {
          "base_uri": "https://localhost:8080/"
        },
        "id": "mk6uAU7NzSGC",
        "outputId": "346ba32c-8178-46ee-9299-90cbc7827036"
      },
      "execution_count": null,
      "outputs": [
        {
          "output_type": "execute_result",
          "data": {
            "text/plain": [
              "{'a', 'b', 'c'}"
            ]
          },
          "metadata": {},
          "execution_count": 12
        }
      ]
    },
    {
      "cell_type": "code",
      "source": [
        "# 17. Write a code to clear all elements from the set {1, 2, 3, 4, 5}.\n",
        "s1 = {1, 2, 3, 4, 5}\n",
        "s1.clear()\n",
        "s1"
      ],
      "metadata": {
        "colab": {
          "base_uri": "https://localhost:8080/"
        },
        "id": "hnj0eNiA0Rjr",
        "outputId": "a4375533-05a4-492d-ec62-166b761270cf"
      },
      "execution_count": null,
      "outputs": [
        {
          "output_type": "execute_result",
          "data": {
            "text/plain": [
              "set()"
            ]
          },
          "metadata": {},
          "execution_count": 14
        }
      ]
    },
    {
      "cell_type": "code",
      "source": [
        "# 18.Write a code to remove the element 4 from the set {1, 2, 3, 4}\n",
        "set = {1, 2, 3, 4}\n",
        "set.remove(4)\n",
        "set"
      ],
      "metadata": {
        "colab": {
          "base_uri": "https://localhost:8080/"
        },
        "id": "RrZTUXsH0wRj",
        "outputId": "7940829b-11a6-4dca-bc3d-ea0c9c604757"
      },
      "execution_count": null,
      "outputs": [
        {
          "output_type": "execute_result",
          "data": {
            "text/plain": [
              "{1, 2, 3}"
            ]
          },
          "metadata": {},
          "execution_count": 16
        }
      ]
    },
    {
      "cell_type": "code",
      "source": [
        "# 19.Write a code to find the union of two sets {1, 2, 3} and {3, 4, 5}.\n",
        "s1 = {1, 2, 3}\n",
        "s2 = {3, 4, 5}\n",
        "s1 | s2\n"
      ],
      "metadata": {
        "colab": {
          "base_uri": "https://localhost:8080/"
        },
        "id": "Dv0aYd371TDE",
        "outputId": "de15146c-115a-42b1-cea9-837ad3df9e5f"
      },
      "execution_count": null,
      "outputs": [
        {
          "output_type": "execute_result",
          "data": {
            "text/plain": [
              "{1, 2, 3, 4, 5}"
            ]
          },
          "metadata": {},
          "execution_count": 19
        }
      ]
    },
    {
      "cell_type": "code",
      "source": [
        "# 20.Write a code to find the intersection of two sets {1, 2, 3} and {2, 3, 4}.\n",
        "s1 = {1, 2, 3}\n",
        "s2 = {2, 3, 4}\n",
        "s1 & s2"
      ],
      "metadata": {
        "colab": {
          "base_uri": "https://localhost:8080/"
        },
        "id": "12LDDg1y2aPs",
        "outputId": "3b375cb7-5013-406d-c609-e91f881938b1"
      },
      "execution_count": null,
      "outputs": [
        {
          "output_type": "execute_result",
          "data": {
            "text/plain": [
              "{2, 3}"
            ]
          },
          "metadata": {},
          "execution_count": 18
        }
      ]
    },
    {
      "cell_type": "code",
      "source": [
        "# 21. Write a code to create a dictionary with the keys \"name\", \"age\", and \"city\", and print it.\n",
        "d = {\"name\": \"VIjay\", \"Age\": 25, \"city\": \"Bangalore\"}\n",
        "d"
      ],
      "metadata": {
        "colab": {
          "base_uri": "https://localhost:8080/"
        },
        "id": "8g3FJmX8204f",
        "outputId": "d2b4347d-727f-4565-dcba-d76074b5e56b"
      },
      "execution_count": null,
      "outputs": [
        {
          "output_type": "execute_result",
          "data": {
            "text/plain": [
              "{'name': 'VIjay', 'Age': 25, 'city': 'Bangalore'}"
            ]
          },
          "metadata": {},
          "execution_count": 20
        }
      ]
    },
    {
      "cell_type": "code",
      "source": [
        "# 22. Write a code to add a new key-value pair \"country\": \"USA\" to the dictionary {'name': 'John', 'age': 25}.\n",
        "d = {\"Name\": \"John\", \"age\": 25}\n",
        "d[\"country\"] = \"usa\"\n",
        "d"
      ],
      "metadata": {
        "colab": {
          "base_uri": "https://localhost:8080/"
        },
        "id": "1HCYtiD_36_L",
        "outputId": "7a47533c-6f5a-43d6-8972-069c70a15045"
      },
      "execution_count": null,
      "outputs": [
        {
          "output_type": "execute_result",
          "data": {
            "text/plain": [
              "{'Name': 'John', 'age': 25, 'country': 'usa'}"
            ]
          },
          "metadata": {},
          "execution_count": 25
        }
      ]
    },
    {
      "cell_type": "code",
      "source": [
        "\n",
        "# 23.23. Write a code to access the value associated with the key \"name\" in the dictionary {'name': 'Alice', 'age': 30}.\n",
        "d = {\"name\": 'Alice', \"age\": 30}\n",
        "d[\"name\"]"
      ],
      "metadata": {
        "colab": {
          "base_uri": "https://localhost:8080/",
          "height": 36
        },
        "id": "xGBlTEa55oBC",
        "outputId": "612b5e80-9f35-47ad-bfa7-86b10c08788d"
      },
      "execution_count": null,
      "outputs": [
        {
          "output_type": "execute_result",
          "data": {
            "text/plain": [
              "'Alice'"
            ],
            "application/vnd.google.colaboratory.intrinsic+json": {
              "type": "string"
            }
          },
          "metadata": {},
          "execution_count": 27
        }
      ]
    },
    {
      "cell_type": "code",
      "source": [
        "d = {\"key\":1}\n",
        "d[\"key\"]"
      ],
      "metadata": {
        "colab": {
          "base_uri": "https://localhost:8080/"
        },
        "id": "gBevS8Xk7EdX",
        "outputId": "cecc5d20-9374-4f0f-c062-5dbf20072a2a"
      },
      "execution_count": null,
      "outputs": [
        {
          "output_type": "execute_result",
          "data": {
            "text/plain": [
              "1"
            ]
          },
          "metadata": {},
          "execution_count": 30
        }
      ]
    },
    {
      "cell_type": "code",
      "source": [
        "#24.Write a code to remove the key \"age\" from the dictionary {'name': 'Bob', 'age': 22, 'city': 'New York'}.\n",
        "d = {\"name\": \"Bob\", \"age\": 22, \"city\": \"New york\"}\n",
        "del d [\"age\"]\n",
        "d"
      ],
      "metadata": {
        "colab": {
          "base_uri": "https://localhost:8080/"
        },
        "id": "ygul5stq7yo4",
        "outputId": "8b8abde1-e349-41ed-882b-b1c20a35394d"
      },
      "execution_count": null,
      "outputs": [
        {
          "output_type": "execute_result",
          "data": {
            "text/plain": [
              "{'name': 'Bob', 'city': 'New york'}"
            ]
          },
          "metadata": {},
          "execution_count": 32
        }
      ]
    },
    {
      "cell_type": "code",
      "source": [
        "#25.5. Write a code to check if the key \"city\" exists in the dictionary {'name': 'Alice', 'city': 'Paris'}\n",
        "d = {\"name\": \"Alice\", \"city\": \"Paris\"}\n",
        "d[\"city\"]"
      ],
      "metadata": {
        "colab": {
          "base_uri": "https://localhost:8080/",
          "height": 36
        },
        "id": "TCQJxRVR87Dl",
        "outputId": "7cffd556-10b4-4b45-ce0d-79a483eec4cc"
      },
      "execution_count": null,
      "outputs": [
        {
          "output_type": "execute_result",
          "data": {
            "text/plain": [
              "'Paris'"
            ],
            "application/vnd.google.colaboratory.intrinsic+json": {
              "type": "string"
            }
          },
          "metadata": {},
          "execution_count": 33
        }
      ]
    },
    {
      "cell_type": "code",
      "source": [
        "#26. Write a code to create a list, a tuple, and a dictionary, and print them all.\n",
        "t1 = (\"pwskills\", \"sham\", 2, 2.3, True, 3+5j)\n",
        "type(t1)"
      ],
      "metadata": {
        "colab": {
          "base_uri": "https://localhost:8080/"
        },
        "id": "whvoY45O-VT6",
        "outputId": "78e444a9-c502-4f3f-8ca2-f81c4efc589d"
      },
      "execution_count": null,
      "outputs": [
        {
          "output_type": "execute_result",
          "data": {
            "text/plain": [
              "tuple"
            ]
          },
          "metadata": {},
          "execution_count": 41
        }
      ]
    },
    {
      "cell_type": "code",
      "source": [
        "t1"
      ],
      "metadata": {
        "colab": {
          "base_uri": "https://localhost:8080/"
        },
        "id": "7ToLh2_Y_SsP",
        "outputId": "7e1840d9-e9d1-4f41-eee4-2023674975a2"
      },
      "execution_count": null,
      "outputs": [
        {
          "output_type": "execute_result",
          "data": {
            "text/plain": [
              "('pwskills', 'sham', 2, 2.3, True, (3+5j))"
            ]
          },
          "metadata": {},
          "execution_count": 42
        }
      ]
    },
    {
      "cell_type": "code",
      "source": [
        "grocery_list = [\"Apple\", \"Milk\", 1, 2.2, True, 3+5j]\n",
        "type(grocery_list)"
      ],
      "metadata": {
        "colab": {
          "base_uri": "https://localhost:8080/"
        },
        "id": "CSxRqtmF_dKv",
        "outputId": "57f461a7-d881-408d-98fa-1277ce7cc879"
      },
      "execution_count": null,
      "outputs": [
        {
          "output_type": "execute_result",
          "data": {
            "text/plain": [
              "list"
            ]
          },
          "metadata": {},
          "execution_count": 37
        }
      ]
    },
    {
      "cell_type": "code",
      "source": [
        "grocery_list"
      ],
      "metadata": {
        "colab": {
          "base_uri": "https://localhost:8080/"
        },
        "id": "EIPPS6hoACGr",
        "outputId": "5e748a2b-bc8a-436e-e5f7-7aca5bd77430"
      },
      "execution_count": null,
      "outputs": [
        {
          "output_type": "execute_result",
          "data": {
            "text/plain": [
              "['Apple', 'Milk', 1, 2.2, True, (3+5j)]"
            ]
          },
          "metadata": {},
          "execution_count": 38
        }
      ]
    },
    {
      "cell_type": "code",
      "source": [
        "d = {\"name\": \"Ajay\", \"email\": \"aj@gmail.com\", \"contact\": 12345}\n",
        "type(d)"
      ],
      "metadata": {
        "colab": {
          "base_uri": "https://localhost:8080/"
        },
        "id": "vScqZPt8AFcT",
        "outputId": "0f765bdc-3666-4f5e-dbc8-a8711770023b"
      },
      "execution_count": null,
      "outputs": [
        {
          "output_type": "execute_result",
          "data": {
            "text/plain": [
              "dict"
            ]
          },
          "metadata": {},
          "execution_count": 39
        }
      ]
    },
    {
      "cell_type": "code",
      "source": [
        "d"
      ],
      "metadata": {
        "colab": {
          "base_uri": "https://localhost:8080/"
        },
        "id": "vUM2T3g2Airg",
        "outputId": "16fb66b1-c85c-4987-d237-e2c6074e9f58"
      },
      "execution_count": null,
      "outputs": [
        {
          "output_type": "execute_result",
          "data": {
            "text/plain": [
              "{'name': 'Ajay', 'email': 'aj@gmail.com', 'contact': 12345}"
            ]
          },
          "metadata": {},
          "execution_count": 40
        }
      ]
    },
    {
      "cell_type": "code",
      "source": [
        "#27. Write a code to create a list of 5 random numbers between 1 and 100, sort it in ascending order, and print the\n",
        " # result.(replaced)\n",
        "\n",
        "\n",
        "list1 = [10, 20, 90, 60, 40]\n",
        "list1.sort()\n",
        "print(list1)"
      ],
      "metadata": {
        "colab": {
          "base_uri": "https://localhost:8080/"
        },
        "id": "nt0KhFLUAj1W",
        "outputId": "2ccdfae6-8553-4137-95a6-42b6880ea6f7"
      },
      "execution_count": null,
      "outputs": [
        {
          "output_type": "stream",
          "name": "stdout",
          "text": [
            "[10, 20, 40, 60, 90]\n"
          ]
        }
      ]
    },
    {
      "cell_type": "code",
      "source": [
        "index = list1.index(40)\n",
        "list1[index] = 70\n",
        "print(list1)"
      ],
      "metadata": {
        "colab": {
          "base_uri": "https://localhost:8080/"
        },
        "id": "uLqGKIhAB8Vu",
        "outputId": "9d8d9e43-6aa8-4d7d-af10-5d0e67c5e54a"
      },
      "execution_count": null,
      "outputs": [
        {
          "output_type": "stream",
          "name": "stdout",
          "text": [
            "[10, 20, 70, 60, 90]\n"
          ]
        }
      ]
    },
    {
      "cell_type": "code",
      "source": [
        "list1.sort()\n",
        "print(list1)"
      ],
      "metadata": {
        "colab": {
          "base_uri": "https://localhost:8080/"
        },
        "id": "6WZTIcU_7daY",
        "outputId": "b3881956-57a2-44ba-d38e-8d96cac0ee01"
      },
      "execution_count": null,
      "outputs": [
        {
          "output_type": "stream",
          "name": "stdout",
          "text": [
            "[10, 20, 60, 70, 90]\n"
          ]
        }
      ]
    },
    {
      "cell_type": "code",
      "source": [
        "#28 . Write a code to create a list with strings and print the element at the third index.\n",
        "fruits = [\"apple\", \"banana\", \"cherry\", \"orange\", \"strawberry\"]\n",
        "fruits[3]\n"
      ],
      "metadata": {
        "colab": {
          "base_uri": "https://localhost:8080/",
          "height": 36
        },
        "id": "LlP2nV0u9AkS",
        "outputId": "150d9a2f-f9c8-477b-c9c9-720c63a520fd"
      },
      "execution_count": null,
      "outputs": [
        {
          "output_type": "execute_result",
          "data": {
            "text/plain": [
              "'orange'"
            ],
            "application/vnd.google.colaboratory.intrinsic+json": {
              "type": "string"
            }
          },
          "metadata": {},
          "execution_count": 24
        }
      ]
    },
    {
      "cell_type": "code",
      "source": [
        "#29. Write a code to combine two dictionaries into one and print the result.\n",
        "library = {\n",
        "    \"book1\": {\n",
        "        \"title\": \"Python Programming\",\n",
        "        \"author\": \"Darshan\",\n",
        "        \"year\": 2021\n",
        "    },\n",
        "    \"book2\": {\n",
        "        \"title\": \"Java Programming\",\n",
        "        \"author\": \"Alice\",\n",
        "        \"year\": 2020\n",
        "    }\n",
        "}\n",
        "print(library)\n",
        "\n",
        "\n"
      ],
      "metadata": {
        "colab": {
          "base_uri": "https://localhost:8080/"
        },
        "id": "-01VlwE3-LL0",
        "outputId": "59151bd9-a68a-45e1-ae30-67808f60d90f"
      },
      "execution_count": null,
      "outputs": [
        {
          "output_type": "stream",
          "name": "stdout",
          "text": [
            "{'book1': {'title': 'Python Programming', 'author': 'Darshan', 'year': 2021}, 'book2': {'title': 'Java Programming', 'author': 'Alice', 'year': 2020}}\n"
          ]
        }
      ]
    },
    {
      "cell_type": "code",
      "source": [
        "#30.Write a code to convert a list of strings into a set.\n",
        "string_list = [\"apple\", \"banana\", \"cherry\", \"apple\"]\n",
        "string_set = set(string_list)\n",
        "print(string_set)\n"
      ],
      "metadata": {
        "colab": {
          "base_uri": "https://localhost:8080/"
        },
        "id": "F5ivOwEqaZco",
        "outputId": "ffc4854b-8fe4-44fe-d3b4-812883671ba0"
      },
      "execution_count": null,
      "outputs": [
        {
          "output_type": "stream",
          "name": "stdout",
          "text": [
            "{'banana', 'apple', 'cherry'}\n"
          ]
        }
      ]
    },
    {
      "cell_type": "markdown",
      "source": [
        "##         Theory Questions & Answers\n",
        "#1. What are data structures, and why are they important?\n",
        "- Data structures are specialized for organizing, sorting, and managing data in a computer system, enabling efficient access and modification. They are fundamental to computer science & programming, providing a means to handle data effectively for various applications.\n",
        "Importance of data structure:\n",
        "1.   efficient Data Management.\n",
        "2.   Optimized Performance.\n",
        "3.   Problem-solving.\n",
        "4.   scalability.\n",
        "\n",
        "#2.   Explain the difference between mutable and immutable data types with examples.\n",
        "- mutable Data Types\n",
        "Mutable objects allow in place modification of their content without changing modification of their identity. common mutable data types include:\n",
        "* Lists: ordered collections that can be modified by adding, removing, or changing elements.\n",
        "Example:\n",
        "\n",
        "\n"
      ],
      "metadata": {
        "id": "AXDAW9aYP2M-"
      }
    },
    {
      "cell_type": "code",
      "source": [
        "fruits = ['apple', 'banana', 'orange']\n",
        "fruits[1] = 'mango'\n",
        "print(fruits)"
      ],
      "metadata": {
        "colab": {
          "base_uri": "https://localhost:8080/"
        },
        "id": "MR_2QZ7gYA5e",
        "outputId": "7d897d95-9d76-40e0-9a00-8228ecee5738"
      },
      "execution_count": null,
      "outputs": [
        {
          "output_type": "stream",
          "name": "stdout",
          "text": [
            "['apple', 'mango', 'orange']\n"
          ]
        }
      ]
    },
    {
      "cell_type": "code",
      "source": [
        "fruits.append('cherry')\n",
        "print(fruits)"
      ],
      "metadata": {
        "colab": {
          "base_uri": "https://localhost:8080/"
        },
        "id": "Z99tujzKYklJ",
        "outputId": "cbff11da-c4bc-4464-da8b-1d7bce0a9e4e"
      },
      "execution_count": null,
      "outputs": [
        {
          "output_type": "stream",
          "name": "stdout",
          "text": [
            "['apple', 'mango', 'orange', 'cherry']\n"
          ]
        }
      ]
    },
    {
      "cell_type": "markdown",
      "source": [
        "* Dictionaries: Collections of key-value paris that can be updated or expanded.Example:\n"
      ],
      "metadata": {
        "id": "d52gW6GaY-bT"
      }
    },
    {
      "cell_type": "code",
      "source": [
        "person = {'name': 'Alice', 'age': 25}\n",
        "person['age'] = 26\n",
        "print(person)"
      ],
      "metadata": {
        "colab": {
          "base_uri": "https://localhost:8080/"
        },
        "id": "UN5F30GBY60b",
        "outputId": "5833ba56-ca2f-4971-e653-746e20301375"
      },
      "execution_count": null,
      "outputs": [
        {
          "output_type": "stream",
          "name": "stdout",
          "text": [
            "{'name': 'Alice', 'age': 26}\n"
          ]
        }
      ]
    },
    {
      "cell_type": "code",
      "source": [
        "person['city'] = 'New York'\n",
        "print(person)"
      ],
      "metadata": {
        "colab": {
          "base_uri": "https://localhost:8080/"
        },
        "id": "iY2TZ-tNY84r",
        "outputId": "8fba312a-6265-4b0b-b8f8-8fdf97343843"
      },
      "execution_count": null,
      "outputs": [
        {
          "output_type": "stream",
          "name": "stdout",
          "text": [
            "{'name': 'Alice', 'age': 26, 'city': 'New York'}\n"
          ]
        }
      ]
    },
    {
      "cell_type": "markdown",
      "source": [
        "* Sets: Unordered collections of unique elements that can be modified by adding or removing items.\n",
        "Example:"
      ],
      "metadata": {
        "id": "Dq4MoxBMY9HC"
      }
    },
    {
      "cell_type": "code",
      "source": [
        "colors ={'red', 'green', 'blue'}\n",
        "colors.add('yellow')\n",
        "print(colors)"
      ],
      "metadata": {
        "colab": {
          "base_uri": "https://localhost:8080/"
        },
        "id": "gaU_q_MfZ2qT",
        "outputId": "256f24b4-e061-4ffe-8eda-59911b6ddd0a"
      },
      "execution_count": null,
      "outputs": [
        {
          "output_type": "stream",
          "name": "stdout",
          "text": [
            "{'yellow', 'blue', 'red', 'green'}\n"
          ]
        }
      ]
    },
    {
      "cell_type": "code",
      "source": [
        "colors.remove('green')\n",
        "print(colors)"
      ],
      "metadata": {
        "colab": {
          "base_uri": "https://localhost:8080/"
        },
        "id": "JpVMAl2waEwP",
        "outputId": "feee7504-d2bd-435a-e3bf-ba64123e58dd"
      },
      "execution_count": null,
      "outputs": [
        {
          "output_type": "stream",
          "name": "stdout",
          "text": [
            "{'yellow', 'blue', 'red'}\n"
          ]
        }
      ]
    },
    {
      "cell_type": "markdown",
      "source": [
        "* Immutable Data Types:It cannot be altered after creation;any modification results in the creation of a new object. common immutable data types include:\n",
        "*  Strings: Sequences of characters that cannot be changed in place. Example:\n"
      ],
      "metadata": {
        "id": "YQ4oHqHAaU4O"
      }
    },
    {
      "cell_type": "code",
      "source": [
        "s = \"I am a student\"\n",
        "print(s)"
      ],
      "metadata": {
        "colab": {
          "base_uri": "https://localhost:8080/"
        },
        "id": "LrcE4rZnaQ1p",
        "outputId": "70c1324e-d427-4aac-facf-19346e6bcc88"
      },
      "execution_count": null,
      "outputs": [
        {
          "output_type": "stream",
          "name": "stdout",
          "text": [
            "I am a student\n"
          ]
        }
      ]
    },
    {
      "cell_type": "code",
      "source": [
        "s.replace(\"student\", \"teacher\")"
      ],
      "metadata": {
        "colab": {
          "base_uri": "https://localhost:8080/",
          "height": 36
        },
        "id": "3dTYsjpxb5M-",
        "outputId": "f3f4e08e-430c-4e7f-d022-79ffe4ea2e22"
      },
      "execution_count": null,
      "outputs": [
        {
          "output_type": "execute_result",
          "data": {
            "text/plain": [
              "'I am a teacher'"
            ],
            "application/vnd.google.colaboratory.intrinsic+json": {
              "type": "string"
            }
          },
          "metadata": {},
          "execution_count": 25
        }
      ]
    },
    {
      "cell_type": "markdown",
      "source": [
        "#3.  What are the main differences between lists and tuples in Python?\n",
        "- In python, both lists and tuples are used to store collections of items. However, they have distinct characteristics that make them sutiable for different scenarios.\n",
        "\n",
        "#4.  Describe how dictionaries store data?\n",
        "- In python, dictionaries are implemented using a data structure called a hash table, which allows for efficient storage and retrieval of key-value pairs.\n",
        "\n",
        " #5. Why might you use a set instead of a list in Python?\n",
        " - In python, choosing between a set and a list depends on the specific requirements of task. While both can store collections of items, they have distinct in certain scenarios.\n",
        "\n",
        " #6. What is a string in Python, and how is it different from a list?\n",
        " - String: Immutable; once created, their content cannot be altered. any modification results in the creation of a new string.\n",
        " - Lists: Mutable; elements can be modified, added, or removed in place.\n",
        "\n",
        " -\n",
        " #7. How do tuples ensure data integrity in Python?\n",
        " - Preventing Unintended Modifications:Science tuples cannot be changed after their creation,they safeguard data from accidental alterations.\n",
        " - Enhancing Code Predictability:\n",
        " The immutable nature of tuples means that their contents are consistent and reliable.\n",
        " - Facilitating Safe Data Sharing:\n",
        " In multi-theaded applications, tuples can be shared betweentheards without the risk of one thread altering the data and causing inconsistencies for others.\n",
        "\n",
        " #8. What is a hash table, and how does it relate to dictionaries in Python?\n",
        " - Hashing Keys:\n",
        " When a key-value pair is added to a dictionary, python computes a hash value for keys using hash function.\n",
        " - Handiling collisions:\n",
        " different keys can produce the same hash value, leading to acollisions.python's dictionaries handle collisions using open addressing, where the algorithm searches for next avaliable slot in the array to store the new key-value pair.\n",
        " - Dynamic Resizing:\n",
        " As more elements are added , the dictionary dynamically resizes to maintain efficient access times.\n",
        "\n",
        " #9.  Can lists contain different data types in Python?\n",
        " -In python, lists can contain elements of different data types.\n",
        "\n",
        " #10.  Explain why strings are immutable in Python?\n",
        " - In python, strings are immutable, meaning that once a string is created, its content cannot be changed.\n",
        "\n",
        " #11.  What advantages do dictionaries offer over lists for certain tasks?\n",
        " - Both lists and dictionaries are fundamental data structures, each offering unique advantages tailored to specific tasks.\n",
        "\n",
        " #12. Describe a scenario where using a tuple would be preferable over a list.\n",
        " -\n",
        "\n",
        " Example:\n",
        " consider the need to store information about a book, such as title, author, and publication year. using a tuple.\n",
        "\n",
        "\n",
        "\n",
        "\n",
        "\n"
      ],
      "metadata": {
        "id": "2-JBbWK2aSXa"
      }
    },
    {
      "cell_type": "code",
      "source": [
        "book_info = (\"To kill a mockingbird\", \"Darshan\", 2021)\n",
        "book_info[0] = \"Harry Potter\"\n",
        "\n"
      ],
      "metadata": {
        "colab": {
          "base_uri": "https://localhost:8080/",
          "height": 176
        },
        "id": "cvO9ea4yFEgC",
        "outputId": "e2b9af4a-2d82-438b-f7c3-c8ab5f07084a"
      },
      "execution_count": null,
      "outputs": [
        {
          "output_type": "error",
          "ename": "TypeError",
          "evalue": "'tuple' object does not support item assignment",
          "traceback": [
            "\u001b[0;31m---------------------------------------------------------------------------\u001b[0m",
            "\u001b[0;31mTypeError\u001b[0m                                 Traceback (most recent call last)",
            "\u001b[0;32m<ipython-input-31-ed82dac78042>\u001b[0m in \u001b[0;36m<cell line: 0>\u001b[0;34m()\u001b[0m\n\u001b[1;32m      1\u001b[0m \u001b[0mbook_info\u001b[0m \u001b[0;34m=\u001b[0m \u001b[0;34m(\u001b[0m\u001b[0;34m\"To kill a mockingbird\"\u001b[0m\u001b[0;34m,\u001b[0m \u001b[0;34m\"Darshan\"\u001b[0m\u001b[0;34m,\u001b[0m \u001b[0;36m2021\u001b[0m\u001b[0;34m)\u001b[0m\u001b[0;34m\u001b[0m\u001b[0;34m\u001b[0m\u001b[0m\n\u001b[0;32m----> 2\u001b[0;31m \u001b[0mbook_info\u001b[0m\u001b[0;34m[\u001b[0m\u001b[0;36m0\u001b[0m\u001b[0;34m]\u001b[0m \u001b[0;34m=\u001b[0m \u001b[0;34m\"Harry Potter\"\u001b[0m\u001b[0;34m\u001b[0m\u001b[0;34m\u001b[0m\u001b[0m\n\u001b[0m\u001b[1;32m      3\u001b[0m \u001b[0;34m\u001b[0m\u001b[0m\n",
            "\u001b[0;31mTypeError\u001b[0m: 'tuple' object does not support item assignment"
          ]
        }
      ]
    },
    {
      "cell_type": "markdown",
      "source": [
        "such modifications lead to inconsistencies, especially if the data is intended to remain constant.employing a tuple to store related, unchanged data ensures data integrity, clarity, and optimal performance, making it a perferable choice over using a list.\n",
        "\n",
        "\n",
        "#13. How do sets handle duplicate values in Python?\n",
        "- sets are collections that automatically handle duplicate values by eliminating them.when you attempt to add an element to a set remains unchanged, ensuring all elements are unique.\n",
        "\n",
        "#14.How does the “in” keyword work differently for lists and dictionaries?\n",
        "- key Differences:\n",
        ". Lists:\n",
        ". in checks for the presence of the element as a whole.\n",
        ". Dictionaries:\n",
        ". in checks for the presence of a key.\n",
        "\n",
        "#15.Can you modify the elements of a tuple? Explain why or why not\n",
        " - If you try to change an element of a tuple directly, python will raise a typeerror. tuples are data structure where you dont want to modify the data.\n",
        " tubles are immutable.\n",
        "\n",
        " #16.  What is a nested dictionary, and give an example of its use case?\n",
        " - A nested dictionary in python is a dictionary where each key maps to another dictionary, allowing you to represent hierarchical or multi-level data.\n",
        " example:"
      ],
      "metadata": {
        "id": "vaZq7cQhLYjI"
      }
    },
    {
      "cell_type": "code",
      "source": [
        "students = {\n",
        "    'student1': {'name': 'arjun', 'age': 20, 'courses':['math', 'science']},\n",
        "    'student2': {'name': 'ajay', 'age': 21, ' courses':['history', 'arts']},\n",
        "    'student3': {'name': 'sanjay', 'age': 24, 'courses':['physics', 'chemistry']}\n",
        "\n",
        "}"
      ],
      "metadata": {
        "id": "rJrQ3DHqQsZK"
      },
      "execution_count": null,
      "outputs": []
    },
    {
      "cell_type": "code",
      "source": [
        "ajay_age = students['student2']['age']\n",
        "print(f\"ajay's age: {ajay_age}\")"
      ],
      "metadata": {
        "colab": {
          "base_uri": "https://localhost:8080/"
        },
        "id": "NnTpKHMYR86a",
        "outputId": "c828277a-98c5-439f-a9d6-d1e3fcc42ce3"
      },
      "execution_count": null,
      "outputs": [
        {
          "output_type": "stream",
          "name": "stdout",
          "text": [
            "ajay's age: 21\n"
          ]
        }
      ]
    },
    {
      "cell_type": "code",
      "source": [
        "sanjay_courses = students['student3']['courses']\n",
        "print(f\"sanjay's courses: {','.join(sanjay_courses)}\")"
      ],
      "metadata": {
        "colab": {
          "base_uri": "https://localhost:8080/"
        },
        "id": "Jq6dc3iFSmUM",
        "outputId": "f222e4b7-a553-4c4d-8377-d557ed3f0366"
      },
      "execution_count": null,
      "outputs": [
        {
          "output_type": "stream",
          "name": "stdout",
          "text": [
            "sanjay's courses: physics,chemistry\n"
          ]
        }
      ]
    },
    {
      "cell_type": "markdown",
      "source": [
        "#17. Describe the time complexity of accessing elements in a dictionary?\n",
        "- dictionaries are implimented using hash tables, which allow for efficient data retrieval. The average time complexity for accessing an element in a dictionary is O(1), meaning that the time taken to access a value does not depend on the size of the dictionary.\n",
        "\n",
        "#18.In what situations are lists preferred over dictionaries?\n",
        "- choosing lists and dictionaries depends on the specific requirements of your data and the operations you need to perform.\n",
        ". Maintaining Ordered Collections\n",
        ". Sequential Data Processing\n",
        ". Allowing Duplicate Elements\n",
        ". Index-Based Access and Slicing\n",
        ". Memory Efficiency with Small Datasets\n",
        ". Simple Collections Without key-Value Association\n",
        "in summary, lists are preferred over dictionaries when you need to maintain order, handel sequential data, allow duplicates,access elements by position, manage small datasets efficiently, or when your data doesn't necessitate key-value associations. choosing the appropriate data structure based on these considerations ensures optimal performance and code clarity.\n",
        "\n",
        "#19.  Why are dictionaries considered unordered, and how does that affect data retrieval?\n",
        "- Dictionaries are implemented hash tables,which inherently do not maintain any specific order of their elements. this means that when you iterate over a dictionary,the items may appear in an arbitrary sequence, not necessarily in the order they were added. the primary reason for this unordered nature is to ensure optimal performance for key-based data retrieval.\n",
        "impact on data retrieval:\n",
        "1. Efficient key based access:Theunordered structure allows dictionaries to provide average-case O(1) time complexity for lookups, insertions, and deletions,making them highly efficient for accessing values based on their keys.\n",
        ". Iteration order:\n",
        "this means that when you iterate over a dictionary in python 3.7 and later, items will appear in the order they were added.\n",
        "\n",
        "#20. Explain the difference between a list and a dictionary in terms of data retrieval.\n",
        "- data retrival(lists):\n",
        "accessing an element by its, index is efficient, with a time complexity of O(1). however, searching for an element by value requires scanning the list, resulting in a time complexity of O(n), where n is the number of elements.\n",
        "- data retrieval(dictionaries):\n",
        "retrieving a value by its key is highly efficient, typically with a time complexity of O(1), due underlying hash table implementation. This allows for quick looksups regardless of the dictionary's size.\n",
        "-"
      ],
      "metadata": {
        "id": "dgWSG5U7ifBd"
      }
    }
  ]
}